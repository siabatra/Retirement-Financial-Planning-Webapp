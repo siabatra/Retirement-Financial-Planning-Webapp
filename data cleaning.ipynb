{
 "cells": [
  {
   "cell_type": "code",
   "execution_count": 12,
   "id": "fe04c69b",
   "metadata": {},
   "outputs": [
    {
     "name": "stdout",
     "output_type": "stream",
     "text": [
      "    Age Education_Level  Occupation  Number_of_Dependents Location  \\\n",
      "0  56.0        Master's  Technology                   5.0    Urban   \n",
      "1  69.0     High School     Finance                   0.0    Urban   \n",
      "2  46.0      Bachelor's  Technology                   1.0    Urban   \n",
      "3  32.0     High School      Others                   2.0    Urban   \n",
      "4  60.0      Bachelor's     Finance                   3.0    Urban   \n",
      "\n",
      "   Work_Experience Marital_Status Employment_Status  Household_Size  \\\n",
      "0             21.0        Married         Full-time             7.0   \n",
      "1              4.0         Single         Full-time             7.0   \n",
      "2              1.0         Single         Full-time             7.0   \n",
      "3             32.0        Married         Full-time             1.0   \n",
      "4             15.0        Married     Self-employed             4.0   \n",
      "\n",
      "  Homeownership_Status  ... Income_Growth_Rate Budget_Adjustments  \\\n",
      "0                  Own  ...               0.07               0.05   \n",
      "1                  Own  ...               0.03               0.06   \n",
      "2                  Own  ...               0.08               0.09   \n",
      "3                  Own  ...               0.09               0.08   \n",
      "4                  Own  ...               0.07               0.07   \n",
      "\n",
      "  Expected_ROI  Healthcare_Cost       Debt Savings_Rate  Desired_Expenses  \\\n",
      "0     42767.41          8906.10   10591.14     28457.33          24527.93   \n",
      "1     25744.66         18772.34    5510.80     29700.21          44334.32   \n",
      "2     83321.10          9642.46   16686.02     22181.83          33326.02   \n",
      "3     59217.72         11004.45   25942.06     11428.21          42327.27   \n",
      "4    350192.33         85179.41  107779.85    232062.93         221683.44   \n",
      "\n",
      "   Inflation_Rate  Retirement_Age  Life_Expectancy  \n",
      "0            2.35            63.0             84.0  \n",
      "1            2.35            63.0             82.0  \n",
      "2            2.35            63.0             83.0  \n",
      "3            2.35            63.0             83.0  \n",
      "4            2.35            63.0             83.0  \n",
      "\n",
      "[5 rows x 35 columns]\n"
     ]
    }
   ],
   "source": [
    "import pandas as pd\n",
    "file_path = 'data_final.csv'  \n",
    "df = pd.read_csv(file_path)\n",
    "print(df.head())"
   ]
  },
  {
   "cell_type": "code",
   "execution_count": 5,
   "id": "e3f29b66",
   "metadata": {},
   "outputs": [
    {
     "name": "stdout",
     "output_type": "stream",
     "text": [
      "Column names:\n",
      "Index(['Age', 'Education_Level', 'Occupation', 'Number_of_Dependents',\n",
      "       'Location', 'Work_Experience', 'Marital_Status', 'Employment_Status',\n",
      "       'Household_Size', 'Homeownership_Status', 'Type_of_Housing', 'Gender',\n",
      "       'Primary_Mode_of_Transportation', 'Income', 'Career_Level',\n",
      "       'Financial_Status', 'Housing', 'Food', 'Transportation', 'Education',\n",
      "       'Total_Invested_Amount', 'Emergency_Funds', 'Tax_Rate',\n",
      "       'Cost_of_Living', 'Monthly_Savings', 'Income_Growth_Rate',\n",
      "       'Budget_Adjustments', 'Expected_ROI', 'Healthcare_Cost', 'Debt',\n",
      "       'Savings_Rate', 'Desired_Expenses', 'Inflation_Rate', 'Retirement_Age',\n",
      "       'Life_Expectancy'],\n",
      "      dtype='object')\n"
     ]
    }
   ],
   "source": [
    "print(\"Column names:\")\n",
    "print(df.columns)"
   ]
  },
  {
   "cell_type": "code",
   "execution_count": 3,
   "id": "21600b0e",
   "metadata": {},
   "outputs": [
    {
     "name": "stdout",
     "output_type": "stream",
     "text": [
      "\n",
      "Null values in each column:\n",
      "Age                               0\n",
      "Education_Level                   0\n",
      "Occupation                        0\n",
      "Number_of_Dependents              0\n",
      "Location                          0\n",
      "Work_Experience                   0\n",
      "Marital_Status                    0\n",
      "Employment_Status                 0\n",
      "Household_Size                    0\n",
      "Homeownership_Status              0\n",
      "Type_of_Housing                   0\n",
      "Gender                            0\n",
      "Primary_Mode_of_Transportation    0\n",
      "Income                            0\n",
      "Career_Level                      0\n",
      "Financial_Status                  0\n",
      "Housing                           0\n",
      "Food                              0\n",
      "Transportation                    0\n",
      "Education                         0\n",
      "Total_Invested_Amount             0\n",
      "Emergency_Funds                   0\n",
      "Tax_Rate                          0\n",
      "Cost_of_Living                    0\n",
      "Monthly_Savings                   0\n",
      "Income_Growth_Rate                0\n",
      "Budget_Adjustments                0\n",
      "Expected_ROI                      0\n",
      "Healthcare_Cost                   0\n",
      "Debt                              0\n",
      "Savings_Rate                      0\n",
      "Desired_Expenses                  0\n",
      "Inflation_Rate                    0\n",
      "Retirement_Age                    0\n",
      "Life_Expectancy                   0\n",
      "dtype: int64\n"
     ]
    }
   ],
   "source": [
    "print(\"Null values in each column:\")\n",
    "print(df.isnull().sum())"
   ]
  },
  {
   "cell_type": "code",
   "execution_count": 4,
   "id": "278c4bd7",
   "metadata": {},
   "outputs": [
    {
     "name": "stdout",
     "output_type": "stream",
     "text": [
      "<class 'pandas.core.frame.DataFrame'>\n",
      "RangeIndex: 50000 entries, 0 to 49999\n",
      "Data columns (total 35 columns):\n",
      " #   Column                          Non-Null Count  Dtype  \n",
      "---  ------                          --------------  -----  \n",
      " 0   Age                             50000 non-null  float64\n",
      " 1   Education_Level                 50000 non-null  object \n",
      " 2   Occupation                      50000 non-null  object \n",
      " 3   Number_of_Dependents            50000 non-null  float64\n",
      " 4   Location                        50000 non-null  object \n",
      " 5   Work_Experience                 50000 non-null  float64\n",
      " 6   Marital_Status                  50000 non-null  object \n",
      " 7   Employment_Status               50000 non-null  object \n",
      " 8   Household_Size                  50000 non-null  float64\n",
      " 9   Homeownership_Status            50000 non-null  object \n",
      " 10  Type_of_Housing                 50000 non-null  object \n",
      " 11  Gender                          50000 non-null  object \n",
      " 12  Primary_Mode_of_Transportation  50000 non-null  object \n",
      " 13  Income                          50000 non-null  float64\n",
      " 14  Career_Level                    50000 non-null  object \n",
      " 15  Financial_Status                50000 non-null  object \n",
      " 16  Housing                         50000 non-null  float64\n",
      " 17  Food                            50000 non-null  float64\n",
      " 18  Transportation                  50000 non-null  float64\n",
      " 19  Education                       50000 non-null  float64\n",
      " 20  Total_Invested_Amount           50000 non-null  float64\n",
      " 21  Emergency_Funds                 50000 non-null  float64\n",
      " 22  Tax_Rate                        50000 non-null  float64\n",
      " 23  Cost_of_Living                  50000 non-null  float64\n",
      " 24  Monthly_Savings                 50000 non-null  float64\n",
      " 25  Income_Growth_Rate              50000 non-null  float64\n",
      " 26  Budget_Adjustments              50000 non-null  float64\n",
      " 27  Expected_ROI                    50000 non-null  float64\n",
      " 28  Healthcare_Cost                 50000 non-null  float64\n",
      " 29  Debt                            50000 non-null  float64\n",
      " 30  Savings_Rate                    50000 non-null  float64\n",
      " 31  Desired_Expenses                50000 non-null  float64\n",
      " 32  Inflation_Rate                  50000 non-null  float64\n",
      " 33  Retirement_Age                  50000 non-null  float64\n",
      " 34  Life_Expectancy                 50000 non-null  float64\n",
      "dtypes: float64(24), object(11)\n",
      "memory usage: 13.4+ MB\n"
     ]
    }
   ],
   "source": [
    "df.info()"
   ]
  },
  {
   "cell_type": "code",
   "execution_count": 8,
   "id": "319ea88a",
   "metadata": {},
   "outputs": [
    {
     "data": {
      "text/plain": [
       "(50000, 35)"
      ]
     },
     "execution_count": 8,
     "metadata": {},
     "output_type": "execute_result"
    }
   ],
   "source": [
    "df.shape"
   ]
  },
  {
   "cell_type": "code",
   "execution_count": 9,
   "id": "7046d42d",
   "metadata": {},
   "outputs": [
    {
     "name": "stdout",
     "output_type": "stream",
     "text": [
      "Number of duplicate rows: 0\n"
     ]
    }
   ],
   "source": [
    "#Checking for duplicate rows\n",
    "duplicate_count = df.duplicated().sum()\n",
    "print(f\"Number of duplicate rows: {duplicate_count}\")\n",
    "\n",
    "#none to drop"
   ]
  },
  {
   "cell_type": "code",
   "execution_count": 10,
   "id": "6a7449c6",
   "metadata": {},
   "outputs": [
    {
     "name": "stdout",
     "output_type": "stream",
     "text": [
      "\n",
      "Column: Education_Level\n",
      "Education_Level\n",
      "Bachelor's     20336\n",
      "High School    14756\n",
      "Master's       12388\n",
      "Doctorate       2520\n",
      "Name: count, dtype: int64\n",
      "\n",
      "Column: Occupation\n",
      "Occupation\n",
      "Healthcare    15273\n",
      "Technology    11948\n",
      "Finance        7675\n",
      "Others         7640\n",
      "Education      7464\n",
      "Name: count, dtype: int64\n",
      "\n",
      "Column: Location\n",
      "Location\n",
      "Urban       35238\n",
      "Suburban     9646\n",
      "Rural        5116\n",
      "Name: count, dtype: int64\n",
      "\n",
      "Column: Marital_Status\n",
      "Marital_Status\n",
      "Married     25756\n",
      "Single      19432\n",
      "Divorced     4812\n",
      "Name: count, dtype: int64\n",
      "\n",
      "Column: Employment_Status\n",
      "Employment_Status\n",
      "Full-time        24991\n",
      "Part-time        15122\n",
      "Self-employed     9887\n",
      "Name: count, dtype: int64\n",
      "\n",
      "Column: Homeownership_Status\n",
      "Homeownership_Status\n",
      "Own     30051\n",
      "Rent    19949\n",
      "Name: count, dtype: int64\n",
      "\n",
      "Column: Type_of_Housing\n",
      "Type_of_Housing\n",
      "Single-family home    20213\n",
      "Apartment             20080\n",
      "Townhouse              9707\n",
      "Name: count, dtype: int64\n",
      "\n",
      "Column: Gender\n",
      "Gender\n",
      "Male      25577\n",
      "Female    24423\n",
      "Name: count, dtype: int64\n",
      "\n",
      "Column: Primary_Mode_of_Transportation\n",
      "Primary_Mode_of_Transportation\n",
      "Public transit    20260\n",
      "Car               14908\n",
      "Biking             9741\n",
      "Walking            5091\n",
      "Name: count, dtype: int64\n",
      "\n",
      "Column: Career_Level\n",
      "Career_Level\n",
      "Entry-Level    20314\n",
      "Mid-Career     19960\n",
      "Late-Career     9726\n",
      "Name: count, dtype: int64\n",
      "\n",
      "Column: Financial_Status\n",
      "Financial_Status\n",
      "Middle Income    25398\n",
      "Low Income       14733\n",
      "High Income       9869\n",
      "Name: count, dtype: int64\n"
     ]
    }
   ],
   "source": [
    "#Unique values\n",
    "categorical_cols = df.select_dtypes(include=['object']).columns\n",
    "for col in categorical_cols:\n",
    "    print(f\"\\nColumn: {col}\")\n",
    "    print(df[col].value_counts())"
   ]
  },
  {
   "cell_type": "code",
   "execution_count": null,
   "id": "f466f5ab",
   "metadata": {},
   "outputs": [],
   "source": []
  },
  {
   "cell_type": "code",
   "execution_count": null,
   "id": "64ae3aae",
   "metadata": {},
   "outputs": [],
   "source": []
  },
  {
   "cell_type": "code",
   "execution_count": null,
   "id": "dfe73661",
   "metadata": {},
   "outputs": [],
   "source": []
  },
  {
   "cell_type": "code",
   "execution_count": null,
   "id": "4740b645",
   "metadata": {},
   "outputs": [],
   "source": []
  }
 ],
 "metadata": {
  "kernelspec": {
   "display_name": "Python 3 (ipykernel)",
   "language": "python",
   "name": "python3"
  },
  "language_info": {
   "codemirror_mode": {
    "name": "ipython",
    "version": 3
   },
   "file_extension": ".py",
   "mimetype": "text/x-python",
   "name": "python",
   "nbconvert_exporter": "python",
   "pygments_lexer": "ipython3",
   "version": "3.11.5"
  }
 },
 "nbformat": 4,
 "nbformat_minor": 5
}
