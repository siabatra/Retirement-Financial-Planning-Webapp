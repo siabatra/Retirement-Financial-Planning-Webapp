{
 "cells": [
  {
   "cell_type": "code",
   "execution_count": 2,
   "id": "f4ce3f83",
   "metadata": {},
   "outputs": [],
   "source": [
    "import numpy as np\n",
    "import pandas as pd\n",
    "from sklearn.preprocessing import StandardScaler\n",
    "from sklearn.model_selection import train_test_split\n",
    "from sklearn.metrics import mean_squared_error\n",
    "import math\n",
    "from tensorflow.keras.models import Sequential\n",
    "from tensorflow.keras.layers import Dense\n",
    "\n",
    "df = pd.read_csv('data_final.csv')\n",
    "\n",
    "# Features (X) and target (y)\n",
    "X = df.drop(columns=[\"Monthly_Savings\"])\n",
    "y = df[\"Monthly_Savings\"]\n",
    "\n"
   ]
  },
  {
   "cell_type": "code",
   "execution_count": 3,
   "id": "d89a91aa",
   "metadata": {},
   "outputs": [
    {
     "name": "stdout",
     "output_type": "stream",
     "text": [
      "Label Encoding for column: Education_Level\n",
      "Mapping: {\"Bachelor's\": 0, 'Doctorate': 1, 'High School': 2, \"Master's\": 3}\n",
      "\n",
      "Label Encoding for column: Occupation\n",
      "Mapping: {'Education': 0, 'Finance': 1, 'Healthcare': 2, 'Others': 3, 'Technology': 4}\n",
      "\n",
      "Label Encoding for column: Location\n",
      "Mapping: {'Rural': 0, 'Suburban': 1, 'Urban': 2}\n",
      "\n",
      "Label Encoding for column: Marital_Status\n",
      "Mapping: {'Divorced': 0, 'Married': 1, 'Single': 2}\n",
      "\n",
      "Label Encoding for column: Employment_Status\n",
      "Mapping: {'Full-time': 0, 'Part-time': 1, 'Self-employed': 2}\n",
      "\n",
      "Label Encoding for column: Homeownership_Status\n",
      "Mapping: {'Own': 0, 'Rent': 1}\n",
      "\n",
      "Label Encoding for column: Type_of_Housing\n",
      "Mapping: {'Apartment': 0, 'Single-family home': 1, 'Townhouse': 2}\n",
      "\n",
      "Label Encoding for column: Gender\n",
      "Mapping: {'Female': 0, 'Male': 1}\n",
      "\n",
      "Label Encoding for column: Primary_Mode_of_Transportation\n",
      "Mapping: {'Biking': 0, 'Car': 1, 'Public transit': 2, 'Walking': 3}\n",
      "\n",
      "Label Encoding for column: Career_Level\n",
      "Mapping: {'Entry-Level': 0, 'Late-Career': 1, 'Mid-Career': 2}\n",
      "\n",
      "Label Encoding for column: Financial_Status\n",
      "Mapping: {'High Income': 0, 'Low Income': 1, 'Middle Income': 2}\n",
      "\n"
     ]
    }
   ],
   "source": [
    "from sklearn.preprocessing import LabelEncoder\n",
    "# Instantiate the LabelEncoder\n",
    "le = LabelEncoder()\n",
    "\n",
    "# Identify non-numeric columns\n",
    "non_numeric_columns = df.select_dtypes(exclude=['number']).columns.tolist()\n",
    "\n",
    "# Apply LabelEncoder to each non-numeric column and print the results\n",
    "for column in non_numeric_columns:\n",
    "    # Apply LabelEncoder\n",
    "    df[column] = le.fit_transform(df[column])\n",
    "    \n",
    "    # Print the Label Encoding mapping for the current column\n",
    "    print(f\"Label Encoding for column: {column}\")\n",
    "    print(f\"Mapping: {dict(zip(le.classes_, le.transform(le.classes_)))}\\n\")\n",
    "\n",
    "Q1 = df.select_dtypes(include=[np.number]).quantile(0.25)\n",
    "Q3 = df.select_dtypes(include=[np.number]).quantile(0.75)\n",
    "IQR = Q3 - Q1\n",
    "\n",
    "# Define the outlier bounds\n",
    "lower_bound = Q1 - 1.5 * IQR\n",
    "upper_bound = Q3 + 1.5 * IQR\n",
    "\n",
    "# Filter out the outliers\n",
    "df_cleaned_iqr = df[~((df.select_dtypes(include=[np.number]) < lower_bound) | \n",
    "                                  (df.select_dtypes(include=[np.number]) > upper_bound)).any(axis=1)]\n",
    "\n",
    "X = df_cleaned_iqr.drop(columns=[\"Monthly_Savings\"])\n",
    "y = df_cleaned_iqr['Monthly_Savings']\n"
   ]
  },
  {
   "cell_type": "code",
   "execution_count": 4,
   "id": "779d7248",
   "metadata": {
    "scrolled": true
   },
   "outputs": [
    {
     "name": "stdout",
     "output_type": "stream",
     "text": [
      "Predicted (original scale): [[13720.48278296]\n",
      " [17301.7378773 ]\n",
      " [22191.35533518]\n",
      " ...\n",
      " [ 9341.90592504]\n",
      " [26458.99718941]\n",
      " [14964.0330178 ]]\n",
      "Actual (original scale): [[12984.05366094]\n",
      " [13898.77      ]\n",
      " [20172.04670723]\n",
      " ...\n",
      " [10802.68597283]\n",
      " [19604.46394006]\n",
      " [16076.52741378]]\n",
      "Mean Squared Error (MSE): 30111836.507880904\n",
      "Root Mean Squared Error (RMSE): 5487.42530772683\n"
     ]
    }
   ],
   "source": [
    "from sklearn.ensemble import RandomForestRegressor\n",
    "# Step 2: Scale features (X) and target (y) using StandardScaler\n",
    "scaler_X = StandardScaler()\n",
    "scaler_y = StandardScaler()\n",
    "\n",
    "# Scale X (features)\n",
    "X_scaled = scaler_X.fit_transform(X)\n",
    "\n",
    "# Scale y (target) (reshape y for scaling)\n",
    "y_scaled = scaler_y.fit_transform(y.values.reshape(-1, 1)).ravel()  # Convert to 2D for scaling\n",
    "\n",
    "# Step 3: Split data into training and testing sets (80% train, 20% test)\n",
    "X_train, X_test, y_train, y_test = train_test_split(X_scaled, y_scaled, test_size=0.2, random_state=42)\n",
    "\n",
    "# Step 4: Define the Random Forest Regressor model\n",
    "rf_model = RandomForestRegressor(max_depth = 20, min_samples_split=2, n_estimators =200,random_state=42)\n",
    "\n",
    "\n",
    "from sklearn.model_selection import cross_val_score\n",
    "cv_scores = cross_val_score(rf_model, X_scaled, y_scaled, cv=5, scoring='neg_mean_squared_error')\n",
    "\n",
    "\n",
    "\n",
    "# Step 5: Train the Random Forest model\n",
    "rf_model.fit(X_train, y_train.ravel())  # ravel() is used to flatten y_train for fitting\n",
    "\n",
    "# Step 6: Make predictions on the test set (scaled values)\n",
    "y_pred_scaled = rf_model.predict(X_test)\n",
    "\n",
    "# Inverse transform the predictions back to the original scale\n",
    "y_pred = scaler_y.inverse_transform(y_pred_scaled.reshape(-1, 1))\n",
    "\n",
    "# Inverse transform the actual values from the test set\n",
    "y_test_original = scaler_y.inverse_transform(y_test.reshape(-1, 1))\n",
    "\n",
    "# Step 7: Evaluate the model's performance using MSE and RMSE\n",
    "mse = mean_squared_error(y_test_original, y_pred)\n",
    "rmse = math.sqrt(mse)\n",
    "\n",
    "# Step 8: Display results\n",
    "print(\"Predicted (original scale):\", y_pred)\n",
    "print(\"Actual (original scale):\", y_test_original)\n",
    "print(f'Mean Squared Error (MSE): {mse}')\n",
    "print(f'Root Mean Squared Error (RMSE): {rmse}')"
   ]
  },
  {
   "cell_type": "code",
   "execution_count": 5,
   "id": "d1d43e66",
   "metadata": {},
   "outputs": [
    {
     "data": {
      "text/plain": [
       "['scaler_y.pkl']"
      ]
     },
     "execution_count": 5,
     "metadata": {},
     "output_type": "execute_result"
    }
   ],
   "source": [
    "import joblib\n",
    "\n",
    "# Save the model and scalers\n",
    "joblib.dump(rf_model, 'monthlySavings_model.pkl')\n",
    "joblib.dump(scaler_X, 'scaler_X.pkl')\n",
    "joblib.dump(scaler_y, 'scaler_y.pkl')"
   ]
  },
  {
   "cell_type": "markdown",
   "id": "c67b5a6c",
   "metadata": {},
   "source": [
    "### How to use the Model"
   ]
  },
  {
   "cell_type": "code",
   "execution_count": null,
   "id": "86e2093b",
   "metadata": {},
   "outputs": [],
   "source": [
    "# Load the model and scalers\n",
    "model = joblib.load('random_forest_model.pkl')\n",
    "scaler_X = joblib.load('scaler_X.pkl')\n",
    "scaler_y = joblib.load('scaler_y.pkl')\n",
    "\n",
    "# Assuming X_test is your new test data\n",
    "X_test_scaled = scaler_X.transform(X_test)\n",
    "\n",
    "# Make predictions\n",
    "y_pred_scaled = model.predict(X_test_scaled)\n",
    "\n",
    "# Inverse scale the predictions\n",
    "y_pred = scaler_y.inverse_transform(y_pred_scaled.reshape(-1, 1))\n",
    "\n",
    "# Now y_pred contains the predictions in the original scale"
   ]
  }
 ],
 "metadata": {
  "kernelspec": {
   "display_name": "Python 3 (ipykernel)",
   "language": "python",
   "name": "python3"
  },
  "language_info": {
   "codemirror_mode": {
    "name": "ipython",
    "version": 3
   },
   "file_extension": ".py",
   "mimetype": "text/x-python",
   "name": "python",
   "nbconvert_exporter": "python",
   "pygments_lexer": "ipython3",
   "version": "3.9.12"
  }
 },
 "nbformat": 4,
 "nbformat_minor": 5
}
