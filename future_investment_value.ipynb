{
  "cells": [
    {
      "cell_type": "markdown",
      "metadata": {
        "id": "xEW494Oq6exB"
      },
      "source": [
        "# Future Investment Value Prediction Model"
      ]
    },
    {
      "cell_type": "markdown",
      "metadata": {
        "id": "JFxD5mXrNvMS"
      },
      "source": [
        "## Goal\n",
        "- Estimate how much a user’s investments will grow over time, taking into account factors like investment type, expected ROI, and inflation\n",
        "\n",
        "## Model\n",
        "- Gradient Boosting (LightGBM or XGBoost)\n",
        "\n",
        "## Inputs\n",
        "- Total_Invested_Amount, Expected_ROI, Retirement_Age, Age, Inflation_Rate, Savings_Rate, Cost_of_Living\n",
        "\n",
        "## Target\n",
        "- Future_Investment_Value=Total Invested Amount*(1+Expected_ROI)^(Retirement_Age−Age)"
      ]
    },
    {
      "cell_type": "markdown",
      "metadata": {
        "id": "5Vje7VKAMiXw"
      },
      "source": [
        "## Imports"
      ]
    },
    {
      "cell_type": "code",
      "execution_count": 412,
      "metadata": {
        "id": "amWUbpahMfQd"
      },
      "outputs": [],
      "source": [
        "from google.colab import drive\n",
        "import pandas as pd\n",
        "import numpy as np\n",
        "import matplotlib.pyplot as plt\n",
        "from sklearn.preprocessing import MinMaxScaler, OneHotEncoder, StandardScaler\n",
        "import lightgbm as lgb\n",
        "from sklearn.model_selection import GridSearchCV, RandomizedSearchCV, train_test_split\n",
        "from sklearn.metrics import mean_squared_error, mean_absolute_error, r2_score\n",
        "import joblib\n",
        "import os\n",
        "import json"
      ]
    },
    {
      "cell_type": "code",
      "execution_count": 413,
      "metadata": {
        "colab": {
          "base_uri": "https://localhost:8080/"
        },
        "id": "5QFy7QKGMmXC",
        "outputId": "3dee417b-ab27-441b-b538-edf3619f45ff"
      },
      "outputs": [
        {
          "output_type": "stream",
          "name": "stdout",
          "text": [
            "Drive already mounted at /content/drive; to attempt to forcibly remount, call drive.mount(\"/content/drive\", force_remount=True).\n",
            "<class 'pandas.core.frame.DataFrame'>\n",
            "RangeIndex: 50000 entries, 0 to 49999\n",
            "Data columns (total 35 columns):\n",
            " #   Column                          Non-Null Count  Dtype  \n",
            "---  ------                          --------------  -----  \n",
            " 0   Age                             50000 non-null  float64\n",
            " 1   Education_Level                 50000 non-null  object \n",
            " 2   Occupation                      50000 non-null  object \n",
            " 3   Number_of_Dependents            50000 non-null  float64\n",
            " 4   Location                        50000 non-null  object \n",
            " 5   Work_Experience                 50000 non-null  float64\n",
            " 6   Marital_Status                  50000 non-null  object \n",
            " 7   Employment_Status               50000 non-null  object \n",
            " 8   Household_Size                  50000 non-null  float64\n",
            " 9   Homeownership_Status            50000 non-null  object \n",
            " 10  Type_of_Housing                 50000 non-null  object \n",
            " 11  Gender                          50000 non-null  object \n",
            " 12  Primary_Mode_of_Transportation  50000 non-null  object \n",
            " 13  Income                          50000 non-null  float64\n",
            " 14  Career_Level                    50000 non-null  object \n",
            " 15  Financial_Status                50000 non-null  object \n",
            " 16  Housing                         50000 non-null  float64\n",
            " 17  Food                            50000 non-null  float64\n",
            " 18  Transportation                  50000 non-null  float64\n",
            " 19  Education                       50000 non-null  float64\n",
            " 20  Total_Invested_Amount           50000 non-null  float64\n",
            " 21  Emergency_Funds                 50000 non-null  float64\n",
            " 22  Tax_Rate                        50000 non-null  float64\n",
            " 23  Cost_of_Living                  50000 non-null  float64\n",
            " 24  Monthly_Savings                 50000 non-null  float64\n",
            " 25  Income_Growth_Rate              50000 non-null  float64\n",
            " 26  Budget_Adjustments              50000 non-null  float64\n",
            " 27  Expected_ROI                    50000 non-null  float64\n",
            " 28  Healthcare_Cost                 50000 non-null  float64\n",
            " 29  Debt                            50000 non-null  float64\n",
            " 30  Savings_Rate                    50000 non-null  float64\n",
            " 31  Desired_Expenses                50000 non-null  float64\n",
            " 32  Inflation_Rate                  50000 non-null  float64\n",
            " 33  Retirement_Age                  50000 non-null  float64\n",
            " 34  Life_Expectancy                 50000 non-null  float64\n",
            "dtypes: float64(24), object(11)\n",
            "memory usage: 13.4+ MB\n"
          ]
        }
      ],
      "source": [
        "drive.mount('/content/drive')\n",
        "df = pd.read_csv(\"/content/drive/My Drive/NTU/NTU OSS Project/data_final.csv\")\n",
        "df.info()"
      ]
    },
    {
      "cell_type": "markdown",
      "metadata": {
        "id": "xukrGlmsNGRt"
      },
      "source": [
        "# Data Cleaning"
      ]
    },
    {
      "cell_type": "markdown",
      "metadata": {
        "id": "32jnbqwk1ORc"
      },
      "source": [
        "## Check for Logical Consistency\n",
        "- Check for negative/invalid values: Ensure that all monetary values are non-negative\n",
        "- Check if Expected_ROI is realistic (eg between 0-20%)\n",
        "- Ensure Retirement_Age > Age"
      ]
    },
    {
      "cell_type": "code",
      "execution_count": 414,
      "metadata": {
        "colab": {
          "base_uri": "https://localhost:8080/"
        },
        "id": "AHhoqpBZiLtE",
        "outputId": "6fd69c6e-d0cb-451e-cc82-95eb9b2c6c12"
      },
      "outputs": [
        {
          "output_type": "stream",
          "name": "stdout",
          "text": [
            "Age                               0\n",
            "Education_Level                   0\n",
            "Occupation                        0\n",
            "Number_of_Dependents              0\n",
            "Location                          0\n",
            "Work_Experience                   0\n",
            "Marital_Status                    0\n",
            "Employment_Status                 0\n",
            "Household_Size                    0\n",
            "Homeownership_Status              0\n",
            "Type_of_Housing                   0\n",
            "Gender                            0\n",
            "Primary_Mode_of_Transportation    0\n",
            "Income                            0\n",
            "Career_Level                      0\n",
            "Financial_Status                  0\n",
            "Housing                           0\n",
            "Food                              0\n",
            "Transportation                    0\n",
            "Education                         0\n",
            "Total_Invested_Amount             0\n",
            "Emergency_Funds                   0\n",
            "Tax_Rate                          0\n",
            "Cost_of_Living                    0\n",
            "Monthly_Savings                   0\n",
            "Income_Growth_Rate                0\n",
            "Budget_Adjustments                0\n",
            "Expected_ROI                      0\n",
            "Healthcare_Cost                   0\n",
            "Debt                              0\n",
            "Savings_Rate                      0\n",
            "Desired_Expenses                  0\n",
            "Inflation_Rate                    0\n",
            "Retirement_Age                    0\n",
            "Life_Expectancy                   0\n",
            "dtype: int64\n"
          ]
        }
      ],
      "source": [
        "print(df.isna().sum())"
      ]
    },
    {
      "cell_type": "code",
      "execution_count": 415,
      "metadata": {
        "id": "GBtv9AV5NH6m"
      },
      "outputs": [],
      "source": [
        "# extract all monetary columns\n",
        "monetary_col = [\"Income\", \"Housing\", \"Food\", \"Transportation\", \"Education\", \"Total_Invested_Amount\", \"Emergency_Funds\", \"Cost_of_Living\", \"Monthly_Savings\", \"Budget_Adjustments\", \"Healthcare_Cost\", \"Debt\", \"Desired_Expenses\"]\n",
        "monetary_df = df[monetary_col]"
      ]
    },
    {
      "cell_type": "code",
      "execution_count": 416,
      "metadata": {
        "colab": {
          "base_uri": "https://localhost:8080/"
        },
        "id": "HEbdRW1W1UP6",
        "outputId": "9217eb7e-98ef-4b2f-b5c2-71126b15ace4"
      },
      "outputs": [
        {
          "output_type": "stream",
          "name": "stdout",
          "text": [
            "Columns with negative values and counts:\n",
            "- Income: 28 negative values\n",
            "- Food: 33 negative values\n",
            "- Education: 3292 negative values\n",
            "- Total_Invested_Amount: 777 negative values\n",
            "- Emergency_Funds: 7 negative values\n",
            "- Cost_of_Living: 246 negative values\n",
            "- Monthly_Savings: 301 negative values\n",
            "- Healthcare_Cost: 221 negative values\n",
            "- Debt: 459 negative values\n",
            "- Desired_Expenses: 66 negative values\n",
            "\n",
            "Columns without negative values:\n",
            "- Housing\n",
            "- Transportation\n",
            "- Budget_Adjustments\n"
          ]
        }
      ],
      "source": [
        "# Identify columns with and without negative values\n",
        "columns_with_negative = {col: monetary_df[col].lt(0).sum() for col in monetary_df.columns if monetary_df[col].lt(0).any()}\n",
        "columns_without_negative = [col for col in monetary_df.columns if col not in columns_with_negative]\n",
        "\n",
        "# Print columns with negative values and their counts\n",
        "if columns_with_negative:\n",
        "    print(\"Columns with negative values and counts:\")\n",
        "    for col, count in columns_with_negative.items():\n",
        "        print(f\"- {col}: {count} negative values\")\n",
        "\n",
        "# Print columns without negative values\n",
        "if columns_without_negative:\n",
        "    print(\"\\nColumns without negative values:\")\n",
        "    for col in columns_without_negative:\n",
        "        print(f\"- {col}\")"
      ]
    },
    {
      "cell_type": "code",
      "execution_count": 417,
      "metadata": {
        "colab": {
          "base_uri": "https://localhost:8080/"
        },
        "id": "hCYWKAJ_jGnj",
        "outputId": "8e730c1c-0ba4-4669-eafd-2f386ffbda26"
      },
      "outputs": [
        {
          "output_type": "execute_result",
          "data": {
            "text/plain": [
              "(44869, 35)"
            ]
          },
          "metadata": {},
          "execution_count": 417
        }
      ],
      "source": [
        "df = df[(df[monetary_col] >= 0).all(axis=1)]\n",
        "df.shape"
      ]
    },
    {
      "cell_type": "code",
      "source": [
        "# Handle missing values\n",
        "df = df.copy()\n",
        "df.fillna({\n",
        "    'Total_Invested_Amount': df['Total_Invested_Amount'].median(),\n",
        "    'Expected_ROI': df['Expected_ROI'].mean(),\n",
        "    'Retirement_Age': 65,\n",
        "    'Age': df['Age'].median(),\n",
        "    'Inflation_Rate': 0.025,\n",
        "    'Savings_Rate': df['Savings_Rate'].median(),\n",
        "    'Cost_of_Living': df['Cost_of_Living'].median()\n",
        "}, inplace=True)"
      ],
      "metadata": {
        "id": "2_xcBbb9wewI"
      },
      "execution_count": 418,
      "outputs": []
    },
    {
      "cell_type": "code",
      "execution_count": 419,
      "metadata": {
        "id": "lDkVaw0K1X4e"
      },
      "outputs": [],
      "source": [
        "# Ensure valid values\n",
        "df['Expected_ROI'] = df['Expected_ROI'].clip(0, 0.2)\n",
        "\n",
        "# Filter rows where Retirement_Age <= Age\n",
        "df = df[df['Retirement_Age'] > df['Age']]"
      ]
    },
    {
      "cell_type": "code",
      "execution_count": 420,
      "metadata": {
        "colab": {
          "base_uri": "https://localhost:8080/",
          "height": 591
        },
        "id": "q20uWMiMNauT",
        "outputId": "bbef71e9-af21-4804-b6b8-ca017db4893e"
      },
      "outputs": [
        {
          "output_type": "display_data",
          "data": {
            "text/plain": [
              "<Figure size 1000x600 with 3 Axes>"
            ],
            "image/png": "[encoded data removed]"
          },
          "metadata": {}
        }
      ],
      "source": [
        "# Detect outliers in Total_Invested_Amount, Savings_Rate and Cost_of_Living using IQR\n",
        "def plot_boxplot_with_iqr(dataframe, columns):\n",
        "    plt.figure(figsize=(10, 6))\n",
        "\n",
        "    for i, col in enumerate(columns, 1):\n",
        "        # Calculate Q1, Q3, and IQR\n",
        "        Q1 = dataframe[col].quantile(0.25)\n",
        "        Q3 = dataframe[col].quantile(0.75)\n",
        "        IQR = Q3 - Q1\n",
        "\n",
        "        # Determine outliers\n",
        "        lower_bound = Q1 - 1.5 * IQR\n",
        "        upper_bound = Q3 + 1.5 * IQR\n",
        "        outliers = dataframe[(dataframe[col] < lower_bound) | (dataframe[col] > upper_bound)]\n",
        "\n",
        "        # Plot boxplot\n",
        "        plt.subplot(1, len(columns), i)\n",
        "        plt.boxplot(dataframe[col], vert=True)\n",
        "        plt.title(col)\n",
        "        plt.scatter([1] * len(outliers), outliers[col], color='red', label='Outliers')\n",
        "        plt.xlabel('')\n",
        "\n",
        "        if i == 1:\n",
        "            plt.legend()\n",
        "\n",
        "    plt.tight_layout()\n",
        "    plt.show()\n",
        "\n",
        "columns_to_plot = ['Total_Invested_Amount', 'Savings_Rate', 'Cost_of_Living']\n",
        "plot_boxplot_with_iqr(df, columns_to_plot)"
      ]
    },
    {
      "cell_type": "code",
      "execution_count": 421,
      "metadata": {
        "colab": {
          "base_uri": "https://localhost:8080/"
        },
        "id": "3Hon3LdE3pr9",
        "outputId": "94d63ed7-69b2-4c81-e40e-b14ebafee628"
      },
      "outputs": [
        {
          "output_type": "stream",
          "name": "stdout",
          "text": [
            "Size of dataframe before removal of outliers: (38529, 35)\n",
            "Size of dataframe after removing outliers: (21355, 35)\n"
          ]
        }
      ],
      "source": [
        "def remove_outliers(df, column):\n",
        "    Q1 = df[column].quantile(0.25)\n",
        "    Q3 = df[column].quantile(0.75)\n",
        "    IQR = Q3 - Q1\n",
        "    lower_bound = Q1 - 1.5 * IQR\n",
        "    upper_bound = Q3 + 1.5 * IQR\n",
        "\n",
        "    # Filter out rows outside the bounds\n",
        "    return df[(df[column] >= lower_bound) & (df[column] <= upper_bound)]\n",
        "\n",
        "float_columns = df.select_dtypes(include=['float64']).columns\n",
        "\n",
        "print(\"Size of dataframe before removal of outliers:\", df.shape)\n",
        "\n",
        "# Apply outlier removal for all float columns\n",
        "for col in float_columns:\n",
        "    df = remove_outliers(df, col)\n",
        "\n",
        "print(\"Size of dataframe after removing outliers:\", df.shape)"
      ]
    },
    {
      "cell_type": "code",
      "execution_count": 422,
      "metadata": {
        "colab": {
          "base_uri": "https://localhost:8080/",
          "height": 591
        },
        "id": "dICc0CeF27ca",
        "outputId": "a0cef8d3-5a35-4cae-d33f-f8344d9fef49"
      },
      "outputs": [
        {
          "output_type": "display_data",
          "data": {
            "text/plain": [
              "<Figure size 1000x600 with 3 Axes>"
            ],
            "image/png": "[encoded data removed]"
          },
          "metadata": {}
        }
      ],
      "source": [
        "# Plot the boxplots again\n",
        "plot_boxplot_with_iqr(df, columns_to_plot)"
      ]
    },
    {
      "cell_type": "markdown",
      "metadata": {
        "id": "aUBsBfv3LbmE"
      },
      "source": [
        "## Feature Engineering\n",
        "- Years_to_Retirement = Retirement_Age - Age.\n",
        "- Real_Return_Rate: Adjust ROI for inflation as Expected_ROI - Inflation_Rate.\n",
        "- Annual_Investment_Growth = Total_Invested_Amount * Expected_ROI\n",
        "- Normalize or scale continuous features for smoother gradient boosting performance.\n",
        "- Encode categorical data if any (e.g., investment types)"
      ]
    },
    {
      "cell_type": "code",
      "source": [
        "# Feature Engineering\n",
        "df['Years_to_Retirement'] = df['Retirement_Age'] - df['Age']\n",
        "df['Real_Return_Rate'] = df['Expected_ROI'] - df['Inflation_Rate']\n",
        "df['Annual_Investment_Growth'] = df['Total_Invested_Amount'] * df['Expected_ROI']\n",
        "df['Future_Investment_Value'] = df['Total_Invested_Amount'] * ((1 + df['Real_Return_Rate']).clip(lower=0.01) ** df['Years_to_Retirement'])\n",
        "df['Savings_Years_Interaction'] = df['Savings_Rate'] * df['Years_to_Retirement']\n",
        "df.head()"
      ],
      "metadata": {
        "colab": {
          "base_uri": "https://localhost:8080/",
          "height": 255
        },
        "id": "6JVQD1Gqw1Kx",
        "outputId": "4b04ccd6-028f-438b-e08a-5ced6b5a5f4f"
      },
      "execution_count": 423,
      "outputs": [
        {
          "output_type": "execute_result",
          "data": {
            "text/plain": [
              "    Age Education_Level  Occupation  Number_of_Dependents  Location  \\\n",
              "0  56.0        Master's  Technology                   5.0     Urban   \n",
              "2  46.0      Bachelor's  Technology                   1.0     Urban   \n",
              "3  32.0     High School      Others                   2.0     Urban   \n",
              "5  25.0     High School      Others                   1.0     Rural   \n",
              "7  56.0        Master's   Education                   1.0  Suburban   \n",
              "\n",
              "   Work_Experience Marital_Status Employment_Status  Household_Size  \\\n",
              "0             21.0        Married         Full-time             7.0   \n",
              "2              1.0         Single         Full-time             7.0   \n",
              "3             32.0        Married         Full-time             1.0   \n",
              "5              6.0         Single         Part-time             1.0   \n",
              "7             34.0        Married         Part-time             7.0   \n",
              "\n",
              "  Homeownership_Status  ... Savings_Rate Desired_Expenses Inflation_Rate  \\\n",
              "0                  Own  ...     28457.33         24527.93           2.35   \n",
              "2                  Own  ...     22181.83         33326.02           2.35   \n",
              "3                  Own  ...     11428.21         42327.27           2.35   \n",
              "5                 Rent  ...      6376.20         51353.34           2.35   \n",
              "7                  Own  ...     21714.28         21311.28           2.35   \n",
              "\n",
              "   Retirement_Age Life_Expectancy Years_to_Retirement  Real_Return_Rate  \\\n",
              "0            63.0            84.0                 7.0             -2.15   \n",
              "2            63.0            83.0                17.0             -2.15   \n",
              "3            63.0            83.0                31.0             -2.15   \n",
              "5            63.0            84.0                38.0             -2.15   \n",
              "7            63.0            84.0                 7.0             -2.15   \n",
              "\n",
              "   Annual_Investment_Growth  Future_Investment_Value  \\\n",
              "0                125335.066             6.266753e-09   \n",
              "2                142712.294             7.135615e-29   \n",
              "3                 70500.784             3.525039e-57   \n",
              "5                 71438.418             3.571921e-71   \n",
              "7                139436.114             6.971806e-09   \n",
              "\n",
              "   Savings_Years_Interaction  \n",
              "0                  199201.31  \n",
              "2                  377091.11  \n",
              "3                  354274.51  \n",
              "5                  242295.60  \n",
              "7                  151999.96  \n",
              "\n",
              "[5 rows x 40 columns]"
            ],
            "text/html": [
              "\n",
              "  <div id=\"df-e7b173ad-b449-40e7-a335-2fac4b7feac6\" class=\"colab-df-container\">\n",
              "    <div>\n",
              "<style scoped>\n",
              "    .dataframe tbody tr th:only-of-type {\n",
              "        vertical-align: middle;\n",
              "    }\n",
              "\n",
              "    .dataframe tbody tr th {\n",
              "        vertical-align: top;\n",
              "    }\n",
              "\n",
              "    .dataframe thead th {\n",
              "        text-align: right;\n",
              "    }\n",
              "</style>\n",
              "<table border=\"1\" class=\"dataframe\">\n",
              "  <thead>\n",
              "    <tr style=\"text-align: right;\">\n",
              "      <th></th>\n",
              "      <th>Age</th>\n",
              "      <th>Education_Level</th>\n",
              "      <th>Occupation</th>\n",
              "      <th>Number_of_Dependents</th>\n",
              "      <th>Location</th>\n",
              "      <th>Work_Experience</th>\n",
              "      <th>Marital_Status</th>\n",
              "      <th>Employment_Status</th>\n",
              "      <th>Household_Size</th>\n",
              "      <th>Homeownership_Status</th>\n",
              "      <th>...</th>\n",
              "      <th>Savings_Rate</th>\n",
              "      <th>Desired_Expenses</th>\n",
              "      <th>Inflation_Rate</th>\n",
              "      <th>Retirement_Age</th>\n",
              "      <th>Life_Expectancy</th>\n",
              "      <th>Years_to_Retirement</th>\n",
              "      <th>Real_Return_Rate</th>\n",
              "      <th>Annual_Investment_Growth</th>\n",
              "      <th>Future_Investment_Value</th>\n",
              "      <th>Savings_Years_Interaction</th>\n",
              "    </tr>\n",
              "  </thead>\n",
              "  <tbody>\n",
              "    <tr>\n",
              "      <th>0</th>\n",
              "      <td>56.0</td>\n",
              "      <td>Master's</td>\n",
              "      <td>Technology</td>\n",
              "      <td>5.0</td>\n",
              "      <td>Urban</td>\n",
              "      <td>21.0</td>\n",
              "      <td>Married</td>\n",
              "      <td>Full-time</td>\n",
              "      <td>7.0</td>\n",
              "      <td>Own</td>\n",
              "      <td>...</td>\n",
              "      <td>28457.33</td>\n",
              "      <td>24527.93</td>\n",
              "      <td>2.35</td>\n",
              "      <td>63.0</td>\n",
              "      <td>84.0</td>\n",
              "      <td>7.0</td>\n",
              "      <td>-2.15</td>\n",
              "      <td>125335.066</td>\n",
              "      <td>6.266753e-09</td>\n",
              "      <td>199201.31</td>\n",
              "    </tr>\n",
              "    <tr>\n",
              "      <th>2</th>\n",
              "      <td>46.0</td>\n",
              "      <td>Bachelor's</td>\n",
              "      <td>Technology</td>\n",
              "      <td>1.0</td>\n",
              "      <td>Urban</td>\n",
              "      <td>1.0</td>\n",
              "      <td>Single</td>\n",
              "      <td>Full-time</td>\n",
              "      <td>7.0</td>\n",
              "      <td>Own</td>\n",
              "      <td>...</td>\n",
              "      <td>22181.83</td>\n",
              "      <td>33326.02</td>\n",
              "      <td>2.35</td>\n",
              "      <td>63.0</td>\n",
              "      <td>83.0</td>\n",
              "      <td>17.0</td>\n",
              "      <td>-2.15</td>\n",
              "      <td>142712.294</td>\n",
              "      <td>7.135615e-29</td>\n",
              "      <td>377091.11</td>\n",
              "    </tr>\n",
              "    <tr>\n",
              "      <th>3</th>\n",
              "      <td>32.0</td>\n",
              "      <td>High School</td>\n",
              "      <td>Others</td>\n",
              "      <td>2.0</td>\n",
              "      <td>Urban</td>\n",
              "      <td>32.0</td>\n",
              "      <td>Married</td>\n",
              "      <td>Full-time</td>\n",
              "      <td>1.0</td>\n",
              "      <td>Own</td>\n",
              "      <td>...</td>\n",
              "      <td>11428.21</td>\n",
              "      <td>42327.27</td>\n",
              "      <td>2.35</td>\n",
              "      <td>63.0</td>\n",
              "      <td>83.0</td>\n",
              "      <td>31.0</td>\n",
              "      <td>-2.15</td>\n",
              "      <td>70500.784</td>\n",
              "      <td>3.525039e-57</td>\n",
              "      <td>354274.51</td>\n",
              "    </tr>\n",
              "    <tr>\n",
              "      <th>5</th>\n",
              "      <td>25.0</td>\n",
              "      <td>High School</td>\n",
              "      <td>Others</td>\n",
              "      <td>1.0</td>\n",
              "      <td>Rural</td>\n",
              "      <td>6.0</td>\n",
              "      <td>Single</td>\n",
              "      <td>Part-time</td>\n",
              "      <td>1.0</td>\n",
              "      <td>Rent</td>\n",
              "      <td>...</td>\n",
              "      <td>6376.20</td>\n",
              "      <td>51353.34</td>\n",
              "      <td>2.35</td>\n",
              "      <td>63.0</td>\n",
              "      <td>84.0</td>\n",
              "      <td>38.0</td>\n",
              "      <td>-2.15</td>\n",
              "      <td>71438.418</td>\n",
              "      <td>3.571921e-71</td>\n",
              "      <td>242295.60</td>\n",
              "    </tr>\n",
              "    <tr>\n",
              "      <th>7</th>\n",
              "      <td>56.0</td>\n",
              "      <td>Master's</td>\n",
              "      <td>Education</td>\n",
              "      <td>1.0</td>\n",
              "      <td>Suburban</td>\n",
              "      <td>34.0</td>\n",
              "      <td>Married</td>\n",
              "      <td>Part-time</td>\n",
              "      <td>7.0</td>\n",
              "      <td>Own</td>\n",
              "      <td>...</td>\n",
              "      <td>21714.28</td>\n",
              "      <td>21311.28</td>\n",
              "      <td>2.35</td>\n",
              "      <td>63.0</td>\n",
              "      <td>84.0</td>\n",
              "      <td>7.0</td>\n",
              "      <td>-2.15</td>\n",
              "      <td>139436.114</td>\n",
              "      <td>6.971806e-09</td>\n",
              "      <td>151999.96</td>\n",
              "    </tr>\n",
              "  </tbody>\n",
              "</table>\n",
              "<p>5 rows × 40 columns</p>\n",
              "</div>\n",
              "    <div class=\"colab-df-buttons\">\n",
              "\n",
              "  <div class=\"colab-df-container\">\n",
              "    <button class=\"colab-df-convert\" onclick=\"convertToInteractive('df-e7b173ad-b449-40e7-a335-2fac4b7feac6')\"\n",
              "            title=\"Convert this dataframe to an interactive table.\"\n",
              "            style=\"display:none;\">\n",
              "\n",
              "  <svg xmlns=\"http://www.w3.org/2000/svg\" height=\"24px\" viewBox=\"0 -960 960 960\">\n",
              "    <path d=\"M120-120v-720h720v720H120Zm60-500h600v-160H180v160Zm220 220h160v-160H400v160Zm0 220h160v-160H400v160ZM180-400h160v-160H180v160Zm440 0h160v-160H620v160ZM180-180h160v-160H180v160Zm440 0h160v-160H620v160Z\"/>\n",
              "  </svg>\n",
              "    </button>\n",
              "\n",
              "  <style>\n",
              "    .colab-df-container {\n",
              "      display:flex;\n",
              "      gap: 12px;\n",
              "    }\n",
              "\n",
              "    .colab-df-convert {\n",
              "      background-color: #E8F0FE;\n",
              "      border: none;\n",
              "      border-radius: 50%;\n",
              "      cursor: pointer;\n",
              "      display: none;\n",
              "      fill: #1967D2;\n",
              "      height: 32px;\n",
              "      padding: 0 0 0 0;\n",
              "      width: 32px;\n",
              "    }\n",
              "\n",
              "    .colab-df-convert:hover {\n",
              "      background-color: #E2EBFA;\n",
              "      box-shadow: 0px 1px 2px rgba(60, 64, 67, 0.3), 0px 1px 3px 1px rgba(60, 64, 67, 0.15);\n",
              "      fill: #174EA6;\n",
              "    }\n",
              "\n",
              "    .colab-df-buttons div {\n",
              "      margin-bottom: 4px;\n",
              "    }\n",
              "\n",
              "    [theme=dark] .colab-df-convert {\n",
              "      background-color: #3B4455;\n",
              "      fill: #D2E3FC;\n",
              "    }\n",
              "\n",
              "    [theme=dark] .colab-df-convert:hover {\n",
              "      background-color: #434B5C;\n",
              "      box-shadow: 0px 1px 3px 1px rgba(0, 0, 0, 0.15);\n",
              "      filter: drop-shadow(0px 1px 2px rgba(0, 0, 0, 0.3));\n",
              "      fill: #FFFFFF;\n",
              "    }\n",
              "  </style>\n",
              "\n",
              "    <script>\n",
              "      const buttonEl =\n",
              "        document.querySelector('#df-e7b173ad-b449-40e7-a335-2fac4b7feac6 button.colab-df-convert');\n",
              "      buttonEl.style.display =\n",
              "        google.colab.kernel.accessAllowed ? 'block' : 'none';\n",
              "\n",
              "      async function convertToInteractive(key) {\n",
              "        const element = document.querySelector('#df-e7b173ad-b449-40e7-a335-2fac4b7feac6');\n",
              "        const dataTable =\n",
              "          await google.colab.kernel.invokeFunction('convertToInteractive',\n",
              "                                                    [key], {});\n",
              "        if (!dataTable) return;\n",
              "\n",
              "        const docLinkHtml = 'Like what you see? Visit the ' +\n",
              "          '<a target=\"_blank\" href=https://colab.research.google.com/notebooks/data_table.ipynb>data table notebook</a>'\n",
              "          + ' to learn more about interactive tables.';\n",
              "        element.innerHTML = '';\n",
              "        dataTable['output_type'] = 'display_data';\n",
              "        await google.colab.output.renderOutput(dataTable, element);\n",
              "        const docLink = document.createElement('div');\n",
              "        docLink.innerHTML = docLinkHtml;\n",
              "        element.appendChild(docLink);\n",
              "      }\n",
              "    </script>\n",
              "  </div>\n",
              "\n",
              "\n",
              "<div id=\"df-dc347391-9385-4644-997d-c7b76800f6bb\">\n",
              "  <button class=\"colab-df-quickchart\" onclick=\"quickchart('df-dc347391-9385-4644-997d-c7b76800f6bb')\"\n",
              "            title=\"Suggest charts\"\n",
              "            style=\"display:none;\">\n",
              "\n",
              "<svg xmlns=\"http://www.w3.org/2000/svg\" height=\"24px\"viewBox=\"0 0 24 24\"\n",
              "     width=\"24px\">\n",
              "    <g>\n",
              "        <path d=\"M19 3H5c-1.1 0-2 .9-2 2v14c0 1.1.9 2 2 2h14c1.1 0 2-.9 2-2V5c0-1.1-.9-2-2-2zM9 17H7v-7h2v7zm4 0h-2V7h2v10zm4 0h-2v-4h2v4z\"/>\n",
              "    </g>\n",
              "</svg>\n",
              "  </button>\n",
              "\n",
              "<style>\n",
              "  .colab-df-quickchart {\n",
              "      --bg-color: #E8F0FE;\n",
              "      --fill-color: #1967D2;\n",
              "      --hover-bg-color: #E2EBFA;\n",
              "      --hover-fill-color: #174EA6;\n",
              "      --disabled-fill-color: #AAA;\n",
              "      --disabled-bg-color: #DDD;\n",
              "  }\n",
              "\n",
              "  [theme=dark] .colab-df-quickchart {\n",
              "      --bg-color: #3B4455;\n",
              "      --fill-color: #D2E3FC;\n",
              "      --hover-bg-color: #434B5C;\n",
              "      --hover-fill-color: #FFFFFF;\n",
              "      --disabled-bg-color: #3B4455;\n",
              "      --disabled-fill-color: #666;\n",
              "  }\n",
              "\n",
              "  .colab-df-quickchart {\n",
              "    background-color: var(--bg-color);\n",
              "    border: none;\n",
              "    border-radius: 50%;\n",
              "    cursor: pointer;\n",
              "    display: none;\n",
              "    fill: var(--fill-color);\n",
              "    height: 32px;\n",
              "    padding: 0;\n",
              "    width: 32px;\n",
              "  }\n",
              "\n",
              "  .colab-df-quickchart:hover {\n",
              "    background-color: var(--hover-bg-color);\n",
              "    box-shadow: 0 1px 2px rgba(60, 64, 67, 0.3), 0 1px 3px 1px rgba(60, 64, 67, 0.15);\n",
              "    fill: var(--button-hover-fill-color);\n",
              "  }\n",
              "\n",
              "  .colab-df-quickchart-complete:disabled,\n",
              "  .colab-df-quickchart-complete:disabled:hover {\n",
              "    background-color: var(--disabled-bg-color);\n",
              "    fill: var(--disabled-fill-color);\n",
              "    box-shadow: none;\n",
              "  }\n",
              "\n",
              "  .colab-df-spinner {\n",
              "    border: 2px solid var(--fill-color);\n",
              "    border-color: transparent;\n",
              "    border-bottom-color: var(--fill-color);\n",
              "    animation:\n",
              "      spin 1s steps(1) infinite;\n",
              "  }\n",
              "\n",
              "  @keyframes spin {\n",
              "    0% {\n",
              "      border-color: transparent;\n",
              "      border-bottom-color: var(--fill-color);\n",
              "      border-left-color: var(--fill-color);\n",
              "    }\n",
              "    20% {\n",
              "      border-color: transparent;\n",
              "      border-left-color: var(--fill-color);\n",
              "      border-top-color: var(--fill-color);\n",
              "    }\n",
              "    30% {\n",
              "      border-color: transparent;\n",
              "      border-left-color: var(--fill-color);\n",
              "      border-top-color: var(--fill-color);\n",
              "      border-right-color: var(--fill-color);\n",
              "    }\n",
              "    40% {\n",
              "      border-color: transparent;\n",
              "      border-right-color: var(--fill-color);\n",
              "      border-top-color: var(--fill-color);\n",
              "    }\n",
              "    60% {\n",
              "      border-color: transparent;\n",
              "      border-right-color: var(--fill-color);\n",
              "    }\n",
              "    80% {\n",
              "      border-color: transparent;\n",
              "      border-right-color: var(--fill-color);\n",
              "      border-bottom-color: var(--fill-color);\n",
              "    }\n",
              "    90% {\n",
              "      border-color: transparent;\n",
              "      border-bottom-color: var(--fill-color);\n",
              "    }\n",
              "  }\n",
              "</style>\n",
              "\n",
              "  <script>\n",
              "    async function quickchart(key) {\n",
              "      const quickchartButtonEl =\n",
              "        document.querySelector('#' + key + ' button');\n",
              "      quickchartButtonEl.disabled = true;  // To prevent multiple clicks.\n",
              "      quickchartButtonEl.classList.add('colab-df-spinner');\n",
              "      try {\n",
              "        const charts = await google.colab.kernel.invokeFunction(\n",
              "            'suggestCharts', [key], {});\n",
              "      } catch (error) {\n",
              "        console.error('Error during call to suggestCharts:', error);\n",
              "      }\n",
              "      quickchartButtonEl.classList.remove('colab-df-spinner');\n",
              "      quickchartButtonEl.classList.add('colab-df-quickchart-complete');\n",
              "    }\n",
              "    (() => {\n",
              "      let quickchartButtonEl =\n",
              "        document.querySelector('#df-dc347391-9385-4644-997d-c7b76800f6bb button');\n",
              "      quickchartButtonEl.style.display =\n",
              "        google.colab.kernel.accessAllowed ? 'block' : 'none';\n",
              "    })();\n",
              "  </script>\n",
              "</div>\n",
              "\n",
              "    </div>\n",
              "  </div>\n"
            ],
            "application/vnd.google.colaboratory.intrinsic+json": {
              "type": "dataframe",
              "variable_name": "df"
            }
          },
          "metadata": {},
          "execution_count": 423
        }
      ]
    },
    {
      "cell_type": "markdown",
      "metadata": {
        "id": "WLDrgPko_1Ut"
      },
      "source": [
        "# Model Training\n",
        "LightBGM\n",
        "- learning_rate: Controls the step size at each iteration.\n",
        "- num_leaves: Maximum number of leaves per tree.\n",
        "- n_estimators: Number of boosting rounds.\n",
        "- max_depth: Maximum depth of the tree.\n",
        "- min_data_in_leaf: Minimum number of samples in a leaf.\n",
        "- feature_fraction: Fraction of features used for training each tree."
      ]
    },
    {
      "cell_type": "markdown",
      "metadata": {
        "id": "yOAwVmYvLxOB"
      },
      "source": [
        "## Model 1\n",
        "- Trained using data set cleaned by removing outliers from all numerical features\n",
        "- Categorical data is encoded using one hot encoder\n",
        "- Trained model on 31 features"
      ]
    },
    {
      "cell_type": "code",
      "source": [
        "# Encode categorical data\n",
        "encoder = OneHotEncoder(sparse_output=False, handle_unknown='ignore')\n",
        "categorical_features = df.select_dtypes(include=['object']).columns\n",
        "\n",
        "# Perform encoding and ensure compatibility\n",
        "categorical_encoded = encoder.fit_transform(df[categorical_features])\n",
        "categorical_encoded_df = pd.DataFrame(categorical_encoded, columns=encoder.get_feature_names_out(categorical_features))\n",
        "\n",
        "# Concatenate the encoded features back to the DataFrame\n",
        "df_cleaned = pd.concat([df.reset_index(drop=True), categorical_encoded_df.reset_index(drop=True)], axis=1)\n",
        "df_cleaned.drop(columns=categorical_features, inplace=True)\n",
        "df_cleaned.head()"
      ],
      "metadata": {
        "colab": {
          "base_uri": "https://localhost:8080/",
          "height": 273
        },
        "id": "jfqq3ndE99on",
        "outputId": "da6b8677-d7b2-450a-cc90-fbc9b9369e27"
      },
      "execution_count": 424,
      "outputs": [
        {
          "output_type": "execute_result",
          "data": {
            "text/plain": [
              "    Age  Number_of_Dependents  Work_Experience  Household_Size   Income  \\\n",
              "0  56.0                   5.0             21.0             7.0  72510.0   \n",
              "1  46.0                   1.0              1.0             7.0  71748.0   \n",
              "2  32.0                   2.0             32.0             1.0  74520.0   \n",
              "3  25.0                   1.0              6.0             1.0  73406.0   \n",
              "4  56.0                   1.0             34.0             7.0  70066.0   \n",
              "\n",
              "   Housing      Food  Transportation  Education  Total_Invested_Amount  ...  \\\n",
              "0  2356.29  10497.31          296.32    2400.02              626675.33  ...   \n",
              "1  1019.15  10457.86          664.89    1344.88              713561.47  ...   \n",
              "2  3420.17   9961.84          754.01    1717.72              352503.92  ...   \n",
              "3  2562.41   8397.15          171.85    2119.06              357192.09  ...   \n",
              "4  1053.71   7966.68           86.46    1087.77              697180.57  ...   \n",
              "\n",
              "   Primary_Mode_of_Transportation_Biking  Primary_Mode_of_Transportation_Car  \\\n",
              "0                                    0.0                                 0.0   \n",
              "1                                    0.0                                 1.0   \n",
              "2                                    0.0                                 1.0   \n",
              "3                                    0.0                                 1.0   \n",
              "4                                    0.0                                 0.0   \n",
              "\n",
              "   Primary_Mode_of_Transportation_Public transit  \\\n",
              "0                                            1.0   \n",
              "1                                            0.0   \n",
              "2                                            0.0   \n",
              "3                                            0.0   \n",
              "4                                            1.0   \n",
              "\n",
              "   Primary_Mode_of_Transportation_Walking  Career_Level_Entry-Level  \\\n",
              "0                                     0.0                       1.0   \n",
              "1                                     0.0                       1.0   \n",
              "2                                     0.0                       1.0   \n",
              "3                                     0.0                       0.0   \n",
              "4                                     0.0                       0.0   \n",
              "\n",
              "   Career_Level_Late-Career  Career_Level_Mid-Career  \\\n",
              "0                       0.0                      0.0   \n",
              "1                       0.0                      0.0   \n",
              "2                       0.0                      0.0   \n",
              "3                       1.0                      0.0   \n",
              "4                       1.0                      0.0   \n",
              "\n",
              "   Financial_Status_High Income  Financial_Status_Low Income  \\\n",
              "0                           0.0                          0.0   \n",
              "1                           0.0                          1.0   \n",
              "2                           0.0                          0.0   \n",
              "3                           0.0                          0.0   \n",
              "4                           0.0                          1.0   \n",
              "\n",
              "   Financial_Status_Middle Income  \n",
              "0                             1.0  \n",
              "1                             0.0  \n",
              "2                             1.0  \n",
              "3                             1.0  \n",
              "4                             0.0  \n",
              "\n",
              "[5 rows x 64 columns]"
            ],
            "text/html": [
              "\n",
              "  <div id=\"df-0e26a5b8-3166-498f-8bb0-228db0af660b\" class=\"colab-df-container\">\n",
              "    <div>\n",
              "<style scoped>\n",
              "    .dataframe tbody tr th:only-of-type {\n",
              "        vertical-align: middle;\n",
              "    }\n",
              "\n",
              "    .dataframe tbody tr th {\n",
              "        vertical-align: top;\n",
              "    }\n",
              "\n",
              "    .dataframe thead th {\n",
              "        text-align: right;\n",
              "    }\n",
              "</style>\n",
              "<table border=\"1\" class=\"dataframe\">\n",
              "  <thead>\n",
              "    <tr style=\"text-align: right;\">\n",
              "      <th></th>\n",
              "      <th>Age</th>\n",
              "      <th>Number_of_Dependents</th>\n",
              "      <th>Work_Experience</th>\n",
              "      <th>Household_Size</th>\n",
              "      <th>Income</th>\n",
              "      <th>Housing</th>\n",
              "      <th>Food</th>\n",
              "      <th>Transportation</th>\n",
              "      <th>Education</th>\n",
              "      <th>Total_Invested_Amount</th>\n",
              "      <th>...</th>\n",
              "      <th>Primary_Mode_of_Transportation_Biking</th>\n",
              "      <th>Primary_Mode_of_Transportation_Car</th>\n",
              "      <th>Primary_Mode_of_Transportation_Public transit</th>\n",
              "      <th>Primary_Mode_of_Transportation_Walking</th>\n",
              "      <th>Career_Level_Entry-Level</th>\n",
              "      <th>Career_Level_Late-Career</th>\n",
              "      <th>Career_Level_Mid-Career</th>\n",
              "      <th>Financial_Status_High Income</th>\n",
              "      <th>Financial_Status_Low Income</th>\n",
              "      <th>Financial_Status_Middle Income</th>\n",
              "    </tr>\n",
              "  </thead>\n",
              "  <tbody>\n",
              "    <tr>\n",
              "      <th>0</th>\n",
              "      <td>56.0</td>\n",
              "      <td>5.0</td>\n",
              "      <td>21.0</td>\n",
              "      <td>7.0</td>\n",
              "      <td>72510.0</td>\n",
              "      <td>2356.29</td>\n",
              "      <td>10497.31</td>\n",
              "      <td>296.32</td>\n",
              "      <td>2400.02</td>\n",
              "      <td>626675.33</td>\n",
              "      <td>...</td>\n",
              "      <td>0.0</td>\n",
              "      <td>0.0</td>\n",
              "      <td>1.0</td>\n",
              "      <td>0.0</td>\n",
              "      <td>1.0</td>\n",
              "      <td>0.0</td>\n",
              "      <td>0.0</td>\n",
              "      <td>0.0</td>\n",
              "      <td>0.0</td>\n",
              "      <td>1.0</td>\n",
              "    </tr>\n",
              "    <tr>\n",
              "      <th>1</th>\n",
              "      <td>46.0</td>\n",
              "      <td>1.0</td>\n",
              "      <td>1.0</td>\n",
              "      <td>7.0</td>\n",
              "      <td>71748.0</td>\n",
              "      <td>1019.15</td>\n",
              "      <td>10457.86</td>\n",
              "      <td>664.89</td>\n",
              "      <td>1344.88</td>\n",
              "      <td>713561.47</td>\n",
              "      <td>...</td>\n",
              "      <td>0.0</td>\n",
              "      <td>1.0</td>\n",
              "      <td>0.0</td>\n",
              "      <td>0.0</td>\n",
              "      <td>1.0</td>\n",
              "      <td>0.0</td>\n",
              "      <td>0.0</td>\n",
              "      <td>0.0</td>\n",
              "      <td>1.0</td>\n",
              "      <td>0.0</td>\n",
              "    </tr>\n",
              "    <tr>\n",
              "      <th>2</th>\n",
              "      <td>32.0</td>\n",
              "      <td>2.0</td>\n",
              "      <td>32.0</td>\n",
              "      <td>1.0</td>\n",
              "      <td>74520.0</td>\n",
              "      <td>3420.17</td>\n",
              "      <td>9961.84</td>\n",
              "      <td>754.01</td>\n",
              "      <td>1717.72</td>\n",
              "      <td>352503.92</td>\n",
              "      <td>...</td>\n",
              "      <td>0.0</td>\n",
              "      <td>1.0</td>\n",
              "      <td>0.0</td>\n",
              "      <td>0.0</td>\n",
              "      <td>1.0</td>\n",
              "      <td>0.0</td>\n",
              "      <td>0.0</td>\n",
              "      <td>0.0</td>\n",
              "      <td>0.0</td>\n",
              "      <td>1.0</td>\n",
              "    </tr>\n",
              "    <tr>\n",
              "      <th>3</th>\n",
              "      <td>25.0</td>\n",
              "      <td>1.0</td>\n",
              "      <td>6.0</td>\n",
              "      <td>1.0</td>\n",
              "      <td>73406.0</td>\n",
              "      <td>2562.41</td>\n",
              "      <td>8397.15</td>\n",
              "      <td>171.85</td>\n",
              "      <td>2119.06</td>\n",
              "      <td>357192.09</td>\n",
              "      <td>...</td>\n",
              "      <td>0.0</td>\n",
              "      <td>1.0</td>\n",
              "      <td>0.0</td>\n",
              "      <td>0.0</td>\n",
              "      <td>0.0</td>\n",
              "      <td>1.0</td>\n",
              "      <td>0.0</td>\n",
              "      <td>0.0</td>\n",
              "      <td>0.0</td>\n",
              "      <td>1.0</td>\n",
              "    </tr>\n",
              "    <tr>\n",
              "      <th>4</th>\n",
              "      <td>56.0</td>\n",
              "      <td>1.0</td>\n",
              "      <td>34.0</td>\n",
              "      <td>7.0</td>\n",
              "      <td>70066.0</td>\n",
              "      <td>1053.71</td>\n",
              "      <td>7966.68</td>\n",
              "      <td>86.46</td>\n",
              "      <td>1087.77</td>\n",
              "      <td>697180.57</td>\n",
              "      <td>...</td>\n",
              "      <td>0.0</td>\n",
              "      <td>0.0</td>\n",
              "      <td>1.0</td>\n",
              "      <td>0.0</td>\n",
              "      <td>0.0</td>\n",
              "      <td>1.0</td>\n",
              "      <td>0.0</td>\n",
              "      <td>0.0</td>\n",
              "      <td>1.0</td>\n",
              "      <td>0.0</td>\n",
              "    </tr>\n",
              "  </tbody>\n",
              "</table>\n",
              "<p>5 rows × 64 columns</p>\n",
              "</div>\n",
              "    <div class=\"colab-df-buttons\">\n",
              "\n",
              "  <div class=\"colab-df-container\">\n",
              "    <button class=\"colab-df-convert\" onclick=\"convertToInteractive('df-0e26a5b8-3166-498f-8bb0-228db0af660b')\"\n",
              "            title=\"Convert this dataframe to an interactive table.\"\n",
              "            style=\"display:none;\">\n",
              "\n",
              "  <svg xmlns=\"http://www.w3.org/2000/svg\" height=\"24px\" viewBox=\"0 -960 960 960\">\n",
              "    <path d=\"M120-120v-720h720v720H120Zm60-500h600v-160H180v160Zm220 220h160v-160H400v160Zm0 220h160v-160H400v160ZM180-400h160v-160H180v160Zm440 0h160v-160H620v160ZM180-180h160v-160H180v160Zm440 0h160v-160H620v160Z\"/>\n",
              "  </svg>\n",
              "    </button>\n",
              "\n",
              "  <style>\n",
              "    .colab-df-container {\n",
              "      display:flex;\n",
              "      gap: 12px;\n",
              "    }\n",
              "\n",
              "    .colab-df-convert {\n",
              "      background-color: #E8F0FE;\n",
              "      border: none;\n",
              "      border-radius: 50%;\n",
              "      cursor: pointer;\n",
              "      display: none;\n",
              "      fill: #1967D2;\n",
              "      height: 32px;\n",
              "      padding: 0 0 0 0;\n",
              "      width: 32px;\n",
              "    }\n",
              "\n",
              "    .colab-df-convert:hover {\n",
              "      background-color: #E2EBFA;\n",
              "      box-shadow: 0px 1px 2px rgba(60, 64, 67, 0.3), 0px 1px 3px 1px rgba(60, 64, 67, 0.15);\n",
              "      fill: #174EA6;\n",
              "    }\n",
              "\n",
              "    .colab-df-buttons div {\n",
              "      margin-bottom: 4px;\n",
              "    }\n",
              "\n",
              "    [theme=dark] .colab-df-convert {\n",
              "      background-color: #3B4455;\n",
              "      fill: #D2E3FC;\n",
              "    }\n",
              "\n",
              "    [theme=dark] .colab-df-convert:hover {\n",
              "      background-color: #434B5C;\n",
              "      box-shadow: 0px 1px 3px 1px rgba(0, 0, 0, 0.15);\n",
              "      filter: drop-shadow(0px 1px 2px rgba(0, 0, 0, 0.3));\n",
              "      fill: #FFFFFF;\n",
              "    }\n",
              "  </style>\n",
              "\n",
              "    <script>\n",
              "      const buttonEl =\n",
              "        document.querySelector('#df-0e26a5b8-3166-498f-8bb0-228db0af660b button.colab-df-convert');\n",
              "      buttonEl.style.display =\n",
              "        google.colab.kernel.accessAllowed ? 'block' : 'none';\n",
              "\n",
              "      async function convertToInteractive(key) {\n",
              "        const element = document.querySelector('#df-0e26a5b8-3166-498f-8bb0-228db0af660b');\n",
              "        const dataTable =\n",
              "          await google.colab.kernel.invokeFunction('convertToInteractive',\n",
              "                                                    [key], {});\n",
              "        if (!dataTable) return;\n",
              "\n",
              "        const docLinkHtml = 'Like what you see? Visit the ' +\n",
              "          '<a target=\"_blank\" href=https://colab.research.google.com/notebooks/data_table.ipynb>data table notebook</a>'\n",
              "          + ' to learn more about interactive tables.';\n",
              "        element.innerHTML = '';\n",
              "        dataTable['output_type'] = 'display_data';\n",
              "        await google.colab.output.renderOutput(dataTable, element);\n",
              "        const docLink = document.createElement('div');\n",
              "        docLink.innerHTML = docLinkHtml;\n",
              "        element.appendChild(docLink);\n",
              "      }\n",
              "    </script>\n",
              "  </div>\n",
              "\n",
              "\n",
              "<div id=\"df-30c1945a-4ae5-4acb-8b7a-1ce0f78d221d\">\n",
              "  <button class=\"colab-df-quickchart\" onclick=\"quickchart('df-30c1945a-4ae5-4acb-8b7a-1ce0f78d221d')\"\n",
              "            title=\"Suggest charts\"\n",
              "            style=\"display:none;\">\n",
              "\n",
              "<svg xmlns=\"http://www.w3.org/2000/svg\" height=\"24px\"viewBox=\"0 0 24 24\"\n",
              "     width=\"24px\">\n",
              "    <g>\n",
              "        <path d=\"M19 3H5c-1.1 0-2 .9-2 2v14c0 1.1.9 2 2 2h14c1.1 0 2-.9 2-2V5c0-1.1-.9-2-2-2zM9 17H7v-7h2v7zm4 0h-2V7h2v10zm4 0h-2v-4h2v4z\"/>\n",
              "    </g>\n",
              "</svg>\n",
              "  </button>\n",
              "\n",
              "<style>\n",
              "  .colab-df-quickchart {\n",
              "      --bg-color: #E8F0FE;\n",
              "      --fill-color: #1967D2;\n",
              "      --hover-bg-color: #E2EBFA;\n",
              "      --hover-fill-color: #174EA6;\n",
              "      --disabled-fill-color: #AAA;\n",
              "      --disabled-bg-color: #DDD;\n",
              "  }\n",
              "\n",
              "  [theme=dark] .colab-df-quickchart {\n",
              "      --bg-color: #3B4455;\n",
              "      --fill-color: #D2E3FC;\n",
              "      --hover-bg-color: #434B5C;\n",
              "      --hover-fill-color: #FFFFFF;\n",
              "      --disabled-bg-color: #3B4455;\n",
              "      --disabled-fill-color: #666;\n",
              "  }\n",
              "\n",
              "  .colab-df-quickchart {\n",
              "    background-color: var(--bg-color);\n",
              "    border: none;\n",
              "    border-radius: 50%;\n",
              "    cursor: pointer;\n",
              "    display: none;\n",
              "    fill: var(--fill-color);\n",
              "    height: 32px;\n",
              "    padding: 0;\n",
              "    width: 32px;\n",
              "  }\n",
              "\n",
              "  .colab-df-quickchart:hover {\n",
              "    background-color: var(--hover-bg-color);\n",
              "    box-shadow: 0 1px 2px rgba(60, 64, 67, 0.3), 0 1px 3px 1px rgba(60, 64, 67, 0.15);\n",
              "    fill: var(--button-hover-fill-color);\n",
              "  }\n",
              "\n",
              "  .colab-df-quickchart-complete:disabled,\n",
              "  .colab-df-quickchart-complete:disabled:hover {\n",
              "    background-color: var(--disabled-bg-color);\n",
              "    fill: var(--disabled-fill-color);\n",
              "    box-shadow: none;\n",
              "  }\n",
              "\n",
              "  .colab-df-spinner {\n",
              "    border: 2px solid var(--fill-color);\n",
              "    border-color: transparent;\n",
              "    border-bottom-color: var(--fill-color);\n",
              "    animation:\n",
              "      spin 1s steps(1) infinite;\n",
              "  }\n",
              "\n",
              "  @keyframes spin {\n",
              "    0% {\n",
              "      border-color: transparent;\n",
              "      border-bottom-color: var(--fill-color);\n",
              "      border-left-color: var(--fill-color);\n",
              "    }\n",
              "    20% {\n",
              "      border-color: transparent;\n",
              "      border-left-color: var(--fill-color);\n",
              "      border-top-color: var(--fill-color);\n",
              "    }\n",
              "    30% {\n",
              "      border-color: transparent;\n",
              "      border-left-color: var(--fill-color);\n",
              "      border-top-color: var(--fill-color);\n",
              "      border-right-color: var(--fill-color);\n",
              "    }\n",
              "    40% {\n",
              "      border-color: transparent;\n",
              "      border-right-color: var(--fill-color);\n",
              "      border-top-color: var(--fill-color);\n",
              "    }\n",
              "    60% {\n",
              "      border-color: transparent;\n",
              "      border-right-color: var(--fill-color);\n",
              "    }\n",
              "    80% {\n",
              "      border-color: transparent;\n",
              "      border-right-color: var(--fill-color);\n",
              "      border-bottom-color: var(--fill-color);\n",
              "    }\n",
              "    90% {\n",
              "      border-color: transparent;\n",
              "      border-bottom-color: var(--fill-color);\n",
              "    }\n",
              "  }\n",
              "</style>\n",
              "\n",
              "  <script>\n",
              "    async function quickchart(key) {\n",
              "      const quickchartButtonEl =\n",
              "        document.querySelector('#' + key + ' button');\n",
              "      quickchartButtonEl.disabled = true;  // To prevent multiple clicks.\n",
              "      quickchartButtonEl.classList.add('colab-df-spinner');\n",
              "      try {\n",
              "        const charts = await google.colab.kernel.invokeFunction(\n",
              "            'suggestCharts', [key], {});\n",
              "      } catch (error) {\n",
              "        console.error('Error during call to suggestCharts:', error);\n",
              "      }\n",
              "      quickchartButtonEl.classList.remove('colab-df-spinner');\n",
              "      quickchartButtonEl.classList.add('colab-df-quickchart-complete');\n",
              "    }\n",
              "    (() => {\n",
              "      let quickchartButtonEl =\n",
              "        document.querySelector('#df-30c1945a-4ae5-4acb-8b7a-1ce0f78d221d button');\n",
              "      quickchartButtonEl.style.display =\n",
              "        google.colab.kernel.accessAllowed ? 'block' : 'none';\n",
              "    })();\n",
              "  </script>\n",
              "</div>\n",
              "\n",
              "    </div>\n",
              "  </div>\n"
            ],
            "application/vnd.google.colaboratory.intrinsic+json": {
              "type": "dataframe",
              "variable_name": "df_cleaned"
            }
          },
          "metadata": {},
          "execution_count": 424
        }
      ]
    },
    {
      "cell_type": "code",
      "source": [
        "features = df_cleaned.drop(columns=['Future_Investment_Value']).columns.tolist()\n",
        "target = 'Future_Investment_Value'\n",
        "X = df_cleaned[features]\n",
        "y = df_cleaned[target]\n",
        "\n",
        "# Normalize features\n",
        "scaler = StandardScaler()\n",
        "X_scaled = pd.DataFrame(scaler.fit_transform(X), columns=features)\n",
        "joblib.dump(scaler, 'scaler.pkl')"
      ],
      "metadata": {
        "colab": {
          "base_uri": "https://localhost:8080/"
        },
        "id": "JefFx-PD-xcw",
        "outputId": "a4013ffd-21df-459f-bca1-6df6dcf90841"
      },
      "execution_count": 425,
      "outputs": [
        {
          "output_type": "execute_result",
          "data": {
            "text/plain": [
              "['scaler.pkl']"
            ]
          },
          "metadata": {},
          "execution_count": 425
        }
      ]
    },
    {
      "cell_type": "code",
      "source": [
        "# Train-test split (80-20 split)\n",
        "X_train, X_test, y_train, y_test = train_test_split(X_scaled, y, test_size=0.2, random_state=42)\n",
        "\n",
        "params = {\n",
        "    'learning_rate': 0.01,\n",
        "    'max_depth': 10,\n",
        "    'subsample': 0.8,\n",
        "    'colsample_bytree': 0.8,\n",
        "    'n_estimators': 200,\n",
        "    'subsample': 0.8,    # Subsampling for better generalization\n",
        "    'colsample_bytree': 0.8,  # Feature fraction for each tree\n",
        "}\n",
        "\n",
        "# Train final model using LightGBM\n",
        "lgb_model_1 = lgb.LGBMRegressor(**params, objective='regression', random_state=42, n_jobs=-1)\n",
        "lgb_model_1.fit(X_train, y_train)\n",
        "\n",
        "# Evaluate model (remains the same)\n",
        "y_pred = lgb_model_1.predict(X_test)\n",
        "mse = mean_squared_error(y_test, y_pred)\n",
        "mae = mean_absolute_error(y_test, y_pred)\n",
        "r2 = r2_score(y_test, y_pred)\n",
        "\n",
        "# Print results (remains the same)\n",
        "print(f'Mean Squared Error: {mse:.4f}')\n",
        "print(f'Mean Absolute Error: {mae:.4f}')\n",
        "print(f'R^2 Score: {r2:.4f}')"
      ],
      "metadata": {
        "colab": {
          "base_uri": "https://localhost:8080/"
        },
        "id": "OMKuuERp_cbQ",
        "outputId": "8171691a-a699-4cc7-ea4c-3f351920e823"
      },
      "execution_count": 426,
      "outputs": [
        {
          "output_type": "stream",
          "name": "stdout",
          "text": [
            "Mean Squared Error: 57864068.1949\n",
            "Mean Absolute Error: 790.2190\n",
            "R^2 Score: 0.9355\n"
          ]
        }
      ]
    },
    {
      "cell_type": "markdown",
      "source": [
        "# Model 2\n",
        "- Train model on `11 features`"
      ],
      "metadata": {
        "id": "WWAm1dqsLsk7"
      }
    },
    {
      "cell_type": "code",
      "source": [
        "features = ['Total_Invested_Amount', 'Expected_ROI', 'Retirement_Age', 'Age', 'Inflation_Rate',\n",
        "            'Savings_Rate', 'Cost_of_Living', 'Years_to_Retirement', 'Real_Return_Rate',\n",
        "            'Annual_Investment_Growth', 'Savings_Years_Interaction']\n",
        "target = 'Future_Investment_Value'\n",
        "X = df[features]\n",
        "y = df[target]\n",
        "\n",
        "# Normalize features\n",
        "scaler = StandardScaler()\n",
        "X_scaled = pd.DataFrame(scaler.fit_transform(X), columns=features)\n",
        "joblib.dump(scaler, 'scaler.pkl')"
      ],
      "metadata": {
        "colab": {
          "base_uri": "https://localhost:8080/"
        },
        "id": "oaXEizVnzhKn",
        "outputId": "8fa3a3b5-b321-495c-9b30-0d1c589a652b"
      },
      "execution_count": 427,
      "outputs": [
        {
          "output_type": "execute_result",
          "data": {
            "text/plain": [
              "['scaler.pkl']"
            ]
          },
          "metadata": {},
          "execution_count": 427
        }
      ]
    },
    {
      "cell_type": "code",
      "source": [
        "# Train-test split (80-20 split)\n",
        "X_train, X_test, y_train, y_test = train_test_split(X_scaled, y, test_size=0.2, random_state=42)\n",
        "\n",
        "params = {\n",
        "    'learning_rate': 0.01,\n",
        "    'max_depth': 10,\n",
        "    'subsample': 0.8,\n",
        "    'colsample_bytree': 0.8,\n",
        "    'n_estimators': 200,\n",
        "    'subsample': 0.8,    # Subsampling for better generalization\n",
        "    'colsample_bytree': 0.8,  # Feature fraction for each tree\n",
        "}\n",
        "\n",
        "# Train final model using LightGBM\n",
        "lgb_model_2 = lgb.LGBMRegressor(**params, objective='regression', random_state=42, n_jobs=-1)\n",
        "lgb_model_2.fit(X_train, y_train)\n",
        "\n",
        "# Evaluate model (remains the same)\n",
        "y_pred = lgb_model_2.predict(X_test)\n",
        "mse = mean_squared_error(y_test, y_pred)\n",
        "mae = mean_absolute_error(y_test, y_pred)\n",
        "r2 = r2_score(y_test, y_pred)\n",
        "\n",
        "# Print results (remains the same)\n",
        "print(f'Mean Squared Error: {mse:.4f}')\n",
        "print(f'Mean Absolute Error: {mae:.4f}')\n",
        "print(f'R^2 Score: {r2:.4f}')"
      ],
      "metadata": {
        "colab": {
          "base_uri": "https://localhost:8080/"
        },
        "id": "2okPI7-gxPUg",
        "outputId": "d2382a36-9180-4f3a-9f1f-de46d0a2b7a8"
      },
      "execution_count": 428,
      "outputs": [
        {
          "output_type": "stream",
          "name": "stdout",
          "text": [
            "Mean Squared Error: 56545539.9402\n",
            "Mean Absolute Error: 799.2287\n",
            "R^2 Score: 0.9370\n"
          ]
        }
      ]
    },
    {
      "cell_type": "markdown",
      "source": [
        "### Interpretation\n",
        "- Good Fit: The high R-squared value `0.9370` suggests that the model `fits the data well` and `captures the relationships` between the features and the target variable effectively.\n",
        "- Potential Outliers or Large Errors: The `high MSE` value indicates that there might be some predictions with relatively `large outliers`."
      ],
      "metadata": {
        "id": "BYvg0oPkqwiY"
      }
    },
    {
      "cell_type": "code",
      "source": [
        "import seaborn as sns\n",
        "subset_df = df[features]\n",
        "\n",
        "# Calculate the correlation matrix\n",
        "correlation_matrix = subset_df.corr()\n",
        "\n",
        "# Plot the heatmap\n",
        "plt.figure(figsize=(12, 10))\n",
        "sns.heatmap(correlation_matrix, annot=True, cmap='coolwarm', fmt=\".2f\")\n",
        "plt.title('Correlation Heatmap of Investment Features')\n",
        "plt.show()"
      ],
      "metadata": {
        "colab": {
          "base_uri": "https://localhost:8080/",
          "height": 1000
        },
        "id": "R0BIQBsImIv3",
        "outputId": "514d1b82-7803-4bd7-b918-2efa7a80b843"
      },
      "execution_count": 429,
      "outputs": [
        {
          "output_type": "display_data",
          "data": {
            "text/plain": [
              "<Figure size 1200x1000 with 2 Axes>"
            ],
            "image/png": "[encoded data removed]"
          },
          "metadata": {}
        }
      ]
    },
    {
      "cell_type": "markdown",
      "source": [
        "### Insights\n",
        "- `Annual_Investment_Growth`, `Expected_ROI`, `Real_Return_Rate` are highly correlated. We should drop two of them to prevent overfitting. Highly correlated features essentially provide the same information to the model. Including both features can introduce redundancy and doesn't significantly improve the model's ability to learn the underlying patterns in the data.\n",
        "- Tree-based models (like decision trees and random forests) are `less sensitive` to highly correlated features than linear models. However, removing redundant features can still `improve` the model's `efficiency`."
      ],
      "metadata": {
        "id": "Wm9z4Hk0ou0f"
      }
    },
    {
      "cell_type": "code",
      "source": [
        "# Feature selection\n",
        "features = ['Total_Invested_Amount', 'Retirement_Age', 'Age', 'Inflation_Rate',\n",
        "            'Savings_Rate', 'Cost_of_Living', 'Years_to_Retirement', 'Real_Return_Rate',\n",
        "           'Savings_Years_Interaction']\n",
        "target = 'Future_Investment_Value'\n",
        "\n",
        "X = df[features]\n",
        "y = df[target]\n",
        "\n",
        "# Normalize features\n",
        "scaler = StandardScaler()\n",
        "X_scaled = pd.DataFrame(scaler.fit_transform(X), columns=features)\n",
        "joblib.dump(scaler, 'scaler.pkl')\n",
        "\n",
        "# Train-test split (80-20 split)\n",
        "X_train, X_test, y_train, y_test = train_test_split(X_scaled, y, test_size=0.2, random_state=42)\n",
        "\n",
        "best_params = {\n",
        "    'learning_rate': 0.01,\n",
        "    'max_depth': 10,\n",
        "    'subsample': 0.8,\n",
        "    'colsample_bytree': 0.8,\n",
        "    'n_estimators': 200,\n",
        "    'subsample': 0.8,    # Subsampling for better generalization\n",
        "    'colsample_bytree': 0.8,  # Feature fraction for each tree\n",
        "}\n",
        "\n",
        "# Train final model using LightGBM\n",
        "best_lgb_model = lgb.LGBMRegressor(**best_params, objective='regression', random_state=42, n_jobs=-1)\n",
        "best_lgb_model.fit(X_train, y_train)\n",
        "\n",
        "# Evaluate model (remains the same)\n",
        "y_pred = best_lgb_model.predict(X_test)\n",
        "mse = mean_squared_error(y_test, y_pred)\n",
        "mae = mean_absolute_error(y_test, y_pred)\n",
        "r2 = r2_score(y_test, y_pred)\n",
        "\n",
        "# Print results (remains the same)\n",
        "print(f'Mean Squared Error: {mse:.4f}')\n",
        "print(f'Mean Absolute Error: {mae:.4f}')\n",
        "print(f'R^2 Score: {r2:.4f}')"
      ],
      "metadata": {
        "colab": {
          "base_uri": "https://localhost:8080/"
        },
        "id": "nrSIC-29pzUS",
        "outputId": "d772d4c4-324e-4ab1-d0b3-f006ac3585c8"
      },
      "execution_count": 430,
      "outputs": [
        {
          "output_type": "stream",
          "name": "stdout",
          "text": [
            "Mean Squared Error: 57339228.7583\n",
            "Mean Absolute Error: 804.4259\n",
            "R^2 Score: 0.9361\n"
          ]
        }
      ]
    },
    {
      "cell_type": "markdown",
      "metadata": {
        "id": "Mb1kBLaK_Bvb"
      },
      "source": [
        "## Hyperparameter Tuning with GridSearchCV"
      ]
    },
    {
      "cell_type": "code",
      "execution_count": 431,
      "metadata": {
        "colab": {
          "base_uri": "https://localhost:8080/"
        },
        "id": "mWXcR7YF_MyO",
        "outputId": "97e6c163-a0af-4a86-c76c-179a92296e33"
      },
      "outputs": [
        {
          "output_type": "stream",
          "name": "stdout",
          "text": [
            "Fitting 5 folds for each of 216 candidates, totalling 1080 fits\n"
          ]
        },
        {
          "output_type": "stream",
          "name": "stderr",
          "text": [
            "/usr/local/lib/python3.11/dist-packages/sklearn/utils/_tags.py:354: FutureWarning: The LGBMRegressor or classes from which it inherits use `_get_tags` and `_more_tags`. Please define the `__sklearn_tags__` method, or inherit from `sklearn.base.BaseEstimator` and/or other appropriate mixins such as `sklearn.base.TransformerMixin`, `sklearn.base.ClassifierMixin`, `sklearn.base.RegressorMixin`, and `sklearn.base.OutlierMixin`. From scikit-learn 1.7, not defining `__sklearn_tags__` will raise an error.\n",
            "  warnings.warn(\n"
          ]
        },
        {
          "output_type": "stream",
          "name": "stdout",
          "text": [
            "Best Parameters: {'colsample_bytree': 0.7, 'learning_rate': 0.1, 'max_depth': 5, 'n_estimators': 200, 'num_leaves': 31, 'subsample': 0.7}\n",
            "Mean Squared Error (MSE): 37849592.40184364\n",
            "Mean Absolute Error (MAE): 497.92689578287775\n",
            "R² (R-squared): 0.9578004099028913\n"
          ]
        }
      ],
      "source": [
        "# Define the hyperparameters grid to search over\n",
        "param_grid = {\n",
        "    'num_leaves': [31, 50],\n",
        "    'learning_rate': [0.01, 0.05, 0.1],\n",
        "    'n_estimators': [100, 200],\n",
        "    'max_depth': [5, 10],\n",
        "    'subsample': [0.7, 0.8, 1.0],\n",
        "    'colsample_bytree': [0.7, 0.8, 1.0],\n",
        "}\n",
        "\n",
        "# Initialize LightGBM model\n",
        "lgb_model = lgb.LGBMRegressor(objective='regression', metric='rmse')\n",
        "\n",
        "# Set up the GridSearchCV with cross-validation (use 5-fold cross-validation)\n",
        "grid_search = GridSearchCV(estimator=lgb_model, param_grid=param_grid, cv=5, scoring='neg_root_mean_squared_error', n_jobs=-1, verbose=1)\n",
        "grid_search.fit(X_train, y_train)\n",
        "\n",
        "# Get the best hyperparameters found\n",
        "best_params = grid_search.best_params_\n",
        "print(f'Best Parameters: {best_params}')\n",
        "\n",
        "# Get the best model and make predictions on the test set\n",
        "best_model = grid_search.best_estimator_\n",
        "y_pred = best_model.predict(X_test)\n",
        "\n",
        "# Evaluate the best model using MSE, MAE, and R²\n",
        "mse = mean_squared_error(y_test, y_pred)\n",
        "mae = mean_absolute_error(y_test, y_pred)\n",
        "r2 = r2_score(y_test, y_pred)\n",
        "\n",
        "print(f'Mean Squared Error (MSE): {mse}')\n",
        "print(f'Mean Absolute Error (MAE): {mae}')\n",
        "print(f'R² (R-squared): {r2}')\n"
      ]
    },
    {
      "cell_type": "markdown",
      "source": [
        "### Interpretation\n",
        "- Best Parameters found using grid serach cv: 'colsample_bytree': 0.7, 'learning_rate': 0.1, 'max_depth': 5, 'n_estimators': 200, 'num_leaves': 31, 'subsample': 0.7"
      ],
      "metadata": {
        "id": "oth3UNrKPfUA"
      }
    },
    {
      "cell_type": "markdown",
      "metadata": {
        "id": "SgucOdDR_Ea8"
      },
      "source": [
        "## Hyperparameter Tuning with RandomizedSearchCV"
      ]
    },
    {
      "cell_type": "code",
      "execution_count": 432,
      "metadata": {
        "colab": {
          "base_uri": "https://localhost:8080/"
        },
        "id": "m9dXv19k_Po4",
        "outputId": "3d4ef57c-66b0-4683-d4b8-0c10b9351682"
      },
      "outputs": [
        {
          "output_type": "stream",
          "name": "stdout",
          "text": [
            "Fitting 5 folds for each of 100 candidates, totalling 500 fits\n"
          ]
        },
        {
          "output_type": "stream",
          "name": "stderr",
          "text": [
            "/usr/local/lib/python3.11/dist-packages/sklearn/utils/_tags.py:354: FutureWarning: The LGBMRegressor or classes from which it inherits use `_get_tags` and `_more_tags`. Please define the `__sklearn_tags__` method, or inherit from `sklearn.base.BaseEstimator` and/or other appropriate mixins such as `sklearn.base.TransformerMixin`, `sklearn.base.ClassifierMixin`, `sklearn.base.RegressorMixin`, and `sklearn.base.OutlierMixin`. From scikit-learn 1.7, not defining `__sklearn_tags__` will raise an error.\n",
            "  warnings.warn(\n"
          ]
        },
        {
          "output_type": "stream",
          "name": "stdout",
          "text": [
            "Best Parameters (RandomizedSearchCV): {'subsample': 0.8, 'num_leaves': 50, 'n_estimators': 500, 'max_depth': 5, 'learning_rate': 0.1, 'colsample_bytree': 0.7}\n",
            "Mean Squared Error (MSE): 36678354.38166989\n",
            "Mean Absolute Error (MAE): 505.1355378856521\n",
            "R² (R-squared): 0.9591062565770836\n"
          ]
        }
      ],
      "source": [
        "# Define the hyperparameters to sample\n",
        "param_dist = {\n",
        "    'num_leaves': [31, 50, 100, 150],\n",
        "    'learning_rate': [0.01, 0.05, 0.1, 0.2],\n",
        "    'n_estimators': [100, 200, 500],\n",
        "    'max_depth': [-1, 5, 10, 15],\n",
        "    'subsample': [0.7, 0.8, 1.0],\n",
        "    'colsample_bytree': [0.7, 0.8, 1.0],\n",
        "}\n",
        "\n",
        "# Initialize RandomizedSearchCV\n",
        "random_search = RandomizedSearchCV(estimator=lgb_model, param_distributions=param_dist, n_iter=100, cv=5, scoring='neg_root_mean_squared_error', n_jobs=-1, verbose=1, random_state=42)\n",
        "\n",
        "# Fit the model to the training data\n",
        "random_search.fit(X_train, y_train)\n",
        "\n",
        "# Get the best parameters and model\n",
        "best_params = random_search.best_params_\n",
        "best_model = random_search.best_estimator_\n",
        "\n",
        "# Make predictions and evaluate the model\n",
        "y_pred = best_model.predict(X_test)\n",
        "mse = mean_squared_error(y_test, y_pred)\n",
        "mae = mean_absolute_error(y_test, y_pred)\n",
        "r2 = r2_score(y_test, y_pred)\n",
        "\n",
        "# Print the evaluation metrics\n",
        "print(f'Best Parameters (RandomizedSearchCV): {best_params}')\n",
        "print(f'Mean Squared Error (MSE): {mse}')\n",
        "print(f'Mean Absolute Error (MAE): {mae}')\n",
        "print(f'R² (R-squared): {r2}')\n"
      ]
    },
    {
      "cell_type": "markdown",
      "source": [
        "### Interpretation\n",
        "- The best model is found using `randomized serach cv` with a r^2 value of `0.96` and the `lowest MSE` and a `MAE slightly higher` than the previous model (trained using the best parameters found using grid search).\n",
        "- The model is trained on the follwing 9 features: `Total_Invested_Amount`, `Retirement_Age`, `Age`, `Inflation_Rate`, `Savings_Rate`, `Cost_of_Living`, `Years_to_Retirement`, `Real_Return_Rate`,`Savings_Years_Interaction`\n",
        "- Best Parameters found using RandomizedSearchCV: subsample': 0.8, 'num_leaves': 50, 'n_estimators': 500, 'max_depth': 5, 'learning_rate': 0.1, 'colsample_bytree': 0.7"
      ],
      "metadata": {
        "id": "uTaDs3l8O7xB"
      }
    },
    {
      "cell_type": "markdown",
      "source": [
        "## Save Model"
      ],
      "metadata": {
        "id": "dx0J9zh3qAcz"
      }
    },
    {
      "cell_type": "code",
      "source": [
        "# Save model\n",
        "joblib.dump(best_lgb_model, 'investment_lgb_model.pkl')\n",
        "\n",
        "# Save model as JSON\n",
        "best_lgb_model.booster_.save_model('investment_lgb_model.json')"
      ],
      "metadata": {
        "id": "rnnQRqAxp_N6"
      },
      "execution_count": null,
      "outputs": []
    }
  ],
  "metadata": {
    "colab": {
      "provenance": []
    },
    "kernelspec": {
      "display_name": "Python 3",
      "name": "python3"
    },
    "language_info": {
      "name": "python"
    }
  },
  "nbformat": 4,
  "nbformat_minor": 0
}